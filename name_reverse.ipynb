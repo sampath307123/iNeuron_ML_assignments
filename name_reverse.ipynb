{
 "cells": [
  {
   "cell_type": "code",
   "execution_count": 3,
   "metadata": {},
   "outputs": [
    {
     "name": "stdout",
     "output_type": "stream",
     "text": [
      "Please enter first nameSampath\n",
      "Please enter last nameReddy\n",
      "htapmaS yddeR\n"
     ]
    }
   ],
   "source": [
    "## 2. Write a Python program to accept the user's first and last name and then getting them\n",
    "## printed in the the reverse order with a space between first name and last name.\n",
    "\n",
    "## Ask user to enter first name & last name\n",
    "first_name=input(\"Please enter first name \")\n",
    "last_name =input(\"Please enter last name \")\n",
    "\n",
    "##Print string in the reverse order\n",
    "print(first_name[::-1],last_name[::-1])"
   ]
  },
  {
   "cell_type": "code",
   "execution_count": null,
   "metadata": {},
   "outputs": [],
   "source": []
  }
 ],
 "metadata": {
  "kernelspec": {
   "display_name": "Python 3",
   "language": "python",
   "name": "python3"
  },
  "language_info": {
   "codemirror_mode": {
    "name": "ipython",
    "version": 3
   },
   "file_extension": ".py",
   "mimetype": "text/x-python",
   "name": "python",
   "nbconvert_exporter": "python",
   "pygments_lexer": "ipython3",
   "version": "3.8.5"
  }
 },
 "nbformat": 4,
 "nbformat_minor": 4
}
