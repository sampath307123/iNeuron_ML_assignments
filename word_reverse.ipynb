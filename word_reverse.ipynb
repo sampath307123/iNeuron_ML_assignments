{
 "cells": [
  {
   "cell_type": "code",
   "execution_count": 4,
   "metadata": {},
   "outputs": [
    {
     "name": "stdout",
     "output_type": "stream",
     "text": [
      "Please enter input wordineuron\n",
      "norueni\n"
     ]
    }
   ],
   "source": [
    "## 2. Write a Python program to reverse a word after accepting the input from the user.\n",
    "## Sample Output:\n",
    "## Input word: ineuron\n",
    "## Output: norueni\n",
    "\n",
    "input_word=input(\"Please enter input word\")\n",
    "print(input_word[::-1])"
   ]
  },
  {
   "cell_type": "code",
   "execution_count": null,
   "metadata": {},
   "outputs": [],
   "source": []
  }
 ],
 "metadata": {
  "kernelspec": {
   "display_name": "Python 3",
   "language": "python",
   "name": "python3"
  },
  "language_info": {
   "codemirror_mode": {
    "name": "ipython",
    "version": 3
   },
   "file_extension": ".py",
   "mimetype": "text/x-python",
   "name": "python",
   "nbconvert_exporter": "python",
   "pygments_lexer": "ipython3",
   "version": "3.8.5"
  }
 },
 "nbformat": 4,
 "nbformat_minor": 4
}
